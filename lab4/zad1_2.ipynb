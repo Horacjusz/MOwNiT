{
 "cells": [
  {
   "cell_type": "code",
   "execution_count": 1120,
   "metadata": {},
   "outputs": [],
   "source": [
    "import numpy as np\n",
    "import matplotlib.pyplot as plt\n",
    "import time"
   ]
  },
  {
   "cell_type": "code",
   "execution_count": 1121,
   "metadata": {},
   "outputs": [],
   "source": [
    "def generate_random_binary_image(n, delta, indices = None):\n",
    "    num_black_pixels = int(n * n * delta)\n",
    "    image = np.zeros((n, n), dtype=int)\n",
    "    if indices == None :\n",
    "        indices = np.random.choice(n * n, num_black_pixels, replace=False)\n",
    "    image.flat[indices] = 1\n",
    "    return image"
   ]
  },
  {
   "cell_type": "code",
   "execution_count": 1122,
   "metadata": {},
   "outputs": [],
   "source": [
    "N = 50\n",
    "delta = 0.4\n",
    "image = generate_random_binary_image(N, delta)"
   ]
  },
  {
   "cell_type": "code",
   "execution_count": 1123,
   "metadata": {},
   "outputs": [],
   "source": [
    "def plot_binary_image(image, title = ''):\n",
    "    plt.imshow(image, cmap='binary')\n",
    "    plt.axis('off')\n",
    "    plt.title(title)\n",
    "    plt.show()"
   ]
  },
  {
   "cell_type": "code",
   "execution_count": 1124,
   "metadata": {},
   "outputs": [],
   "source": [
    "def save_binary_image(image, filename):\n",
    "    plt.imshow(image, cmap='binary')\n",
    "    plt.axis('off')\n",
    "    plt.savefig(filename)"
   ]
  },
  {
   "cell_type": "code",
   "execution_count": 1125,
   "metadata": {},
   "outputs": [
    {
     "data": {
      "image/png": "[encoded data removed]",
      "text/plain": [
       "<Figure size 640x480 with 1 Axes>"
      ]
     },
     "metadata": {},
     "output_type": "display_data"
    }
   ],
   "source": [
    "plot_binary_image(image,'Stan początkowy')"
   ]
  },
  {
   "cell_type": "code",
   "execution_count": 1126,
   "metadata": {},
   "outputs": [],
   "source": [
    "def neighbourhood_energy_vert(image, x, y, tellrange = False, tellval = False) :\n",
    "    if tellval : return 0\n",
    "    n = image.shape[0]\n",
    "    field_val = 1\n",
    "    if tellrange : \n",
    "        table = []\n",
    "        for i in range(-1,2) :\n",
    "            if i == 0 : continue\n",
    "            if 0 <= y + i < n :\n",
    "                table.append((x,y + i))\n",
    "        return set(table),field_val\n",
    "    energy = 0\n",
    "    if image[x,y] != 0 :\n",
    "        if y - 1 >= 0 :\n",
    "            energy += image[x,y - 1]\n",
    "        if y + 1 < n :\n",
    "            energy += image[x,y + 1]\n",
    "    \n",
    "    return energy*field_val"
   ]
  },
  {
   "cell_type": "code",
   "execution_count": 1127,
   "metadata": {},
   "outputs": [],
   "source": [
    "def neighbourhood_energy_hor(image, x, y, tellrange = False, tellval = False) :\n",
    "    if tellval : return 0\n",
    "    n = image.shape[0]\n",
    "    field_val = 1\n",
    "    if tellrange :\n",
    "        table = []\n",
    "        for i in range(-1,2) :\n",
    "            if i == 0 : continue\n",
    "            if 0 <= x + i < n :\n",
    "                table.append((x + i,y))\n",
    "        return set(table),field_val\n",
    "    energy = 0\n",
    "    if image[x,y] != 0 : \n",
    "        if x - 1 >= 0 :\n",
    "            energy += image[x - 1,y]\n",
    "        if x + 1 < n :\n",
    "            energy += image[x + 1,y]\n",
    "    return energy*field_val"
   ]
  },
  {
   "cell_type": "code",
   "execution_count": 1128,
   "metadata": {},
   "outputs": [],
   "source": [
    "def neighbourhood_energy_vert_stripes(image, x, y, tellrange = False, tellval = False) :\n",
    "    if tellval : return 0\n",
    "    n = image.shape[0]\n",
    "    field_val = 1\n",
    "    if tellrange : \n",
    "        table = []\n",
    "        for j in range(-1,2) :\n",
    "            if j == 0 : continue\n",
    "            for i in range(-1,2) :\n",
    "                if 0 <= x + i < n and 0 <= y + j < n and image[x+i,y+j] == 1 :\n",
    "                    table.append((x + i,y + j))\n",
    "        return set(table),field_val\n",
    "    energy = 0\n",
    "    if image[x,y] != 0 :\n",
    "        for j in range(-1,2) :\n",
    "            if j == 0 : continue\n",
    "            for i in range(-1,2) :\n",
    "                if 0 <= x + i < n and 0 <= y + j < n and image[x+i,y+j] == 1 :\n",
    "                    energy += image[x + i, y + j]\n",
    "    \n",
    "    return energy*field_val"
   ]
  },
  {
   "cell_type": "code",
   "execution_count": 1129,
   "metadata": {},
   "outputs": [],
   "source": [
    "def neighbourhood_energy_hor_stripes(image, x, y, tellrange = False, tellval = False) :\n",
    "    if tellval : return 0\n",
    "    n = image.shape[0]\n",
    "    field_val = 1\n",
    "    if tellrange : \n",
    "        table = []\n",
    "        for i in range(-1,2) :\n",
    "            if i == 0 : continue\n",
    "            for j in range(-1,2) :\n",
    "                if 0 <= x + i < n and 0 <= y + j < n and image[x+i,y+j] == 1 :\n",
    "                    table.append((x + i,y + j))\n",
    "        return set(table),field_val\n",
    "    energy = 0\n",
    "    if image[x,y] != 0 :\n",
    "        for i in range(-1,2) :\n",
    "            if i == 0 : continue\n",
    "            for j in range(-1,2) :\n",
    "                if 0 <= x + i < n and 0 <= y + j < n and image[x+i,y+j] == 1 :\n",
    "                    energy += image[x + i, y + j]\n",
    "    \n",
    "    return energy*field_val"
   ]
  },
  {
   "cell_type": "code",
   "execution_count": 1130,
   "metadata": {},
   "outputs": [],
   "source": [
    "def neighbourhood_energy_divide(image,x,y,tellrange = False, tellval = False) :\n",
    "    value = 0\n",
    "    if tellval : return value\n",
    "    n = image.shape[0]\n",
    "    field_val = 1\n",
    "    if tellrange : \n",
    "        table = []\n",
    "        for i in range(-1,2) :\n",
    "            for j in range(-1,2) :\n",
    "                if i == 0 and j == 0 : continue\n",
    "                if 0 <= x + i < n and 0 <= y + j < n and image[x+i,y+j] == 1 :\n",
    "                    table.append((x + i,y + j))\n",
    "        return set(table),field_val\n",
    "    energy = 0\n",
    "    if image[x,y] == 1 : \n",
    "        for i in range(-1,2) :\n",
    "            for j in range(-1,2) :\n",
    "                if i == 0 and j == 0 : continue\n",
    "                if 0 <= x + i < n and 0 <= y + j < n :\n",
    "                    energy += image[x + i, y + j]\n",
    "    return energy*field_val\n"
   ]
  },
  {
   "cell_type": "code",
   "execution_count": 1131,
   "metadata": {},
   "outputs": [],
   "source": [
    "def neighbourhood_energy_combine(image,x,y,tellrange = False, tellval = False) :\n",
    "    value = -np.inf\n",
    "    if tellval : return value\n",
    "    n = image.shape[0]\n",
    "    field_val = -1\n",
    "    if tellrange : \n",
    "        table = []\n",
    "        for i in range(-1,2) :\n",
    "            for j in range(-1,2) :\n",
    "                if i == 0 and j == 0 : continue\n",
    "                if 0 <= x + i < n and 0 <= y + j < n and image[x+i,y+j] == 1 :\n",
    "                    table.append((x + i,y + j))\n",
    "        return set(table),field_val\n",
    "    energy = 0\n",
    "    if image[x,y] == 1 : \n",
    "        for i in range(-1,2) :\n",
    "            for j in range(-1,2) :\n",
    "                if i == 0 and j == 0 : continue\n",
    "                if 0 <= x + i < n and 0 <= y + j < n :\n",
    "                    energy += image[x+i,y+j]\n",
    "    return energy*field_val"
   ]
  },
  {
   "cell_type": "code",
   "execution_count": 1132,
   "metadata": {},
   "outputs": [],
   "source": [
    "def whole_energy(image, neighbourhood_energy_function,matrix = False) :\n",
    "    n = image.shape[0]\n",
    "    if matrix :\n",
    "        tab = np.zeros((n, n))\n",
    "    energy = 0\n",
    "    for i in range(n) :\n",
    "        for j in range(n) :\n",
    "            val = neighbourhood_energy_function(image,i,j)\n",
    "            energy += val\n",
    "            if matrix : tab[i][j] = val\n",
    "    if matrix : return tab\n",
    "    return energy"
   ]
  },
  {
   "cell_type": "code",
   "execution_count": 1133,
   "metadata": {},
   "outputs": [],
   "source": [
    "def find_swap(image, neighbourhood_energy_function, a_ind, b_ind, d_E, val) :\n",
    "    d_E += neighbourhood_energy_function(image,a_ind[0],a_ind[1])*val\n",
    "    d_E += neighbourhood_energy_function(image,b_ind[0],b_ind[1])*val\n",
    "    \n",
    "    a_set,a_val = neighbourhood_energy_function(image,a_ind[0],a_ind[1],True)\n",
    "    b_set,b_val = neighbourhood_energy_function(image,b_ind[0],b_ind[1],True)\n",
    "    \n",
    "    intersection_set = a_set.intersection(b_set)\n",
    "    intersection_set.update({a_ind, b_ind})\n",
    "    a_set.difference_update(intersection_set)\n",
    "    b_set.difference_update(intersection_set)\n",
    "    \n",
    "    a_set.update(b_set)\n",
    "    \n",
    "    for x,y in a_set :\n",
    "        d_E += neighbourhood_energy_function(image,x,y)*val\n",
    "\n",
    "    return d_E"
   ]
  },
  {
   "cell_type": "code",
   "execution_count": 1134,
   "metadata": {},
   "outputs": [],
   "source": [
    "def simulated_annealing_image(image, neighbourhood_energy_function, iterations = 5000, T = 3000, cooling_rate = 0.995) :\n",
    "    n = image.shape[0]\n",
    "    E = whole_energy(image, neighbourhood_energy_function)\n",
    "    E_tab = [E]\n",
    "    temp_tab = [T]\n",
    "    counter = 0\n",
    "    \n",
    "    function_val = neighbourhood_energy_function(image,0,0,False,True)\n",
    "    start = time.time()\n",
    "    \n",
    "    for _ in range(iterations) :\n",
    "        if _ % (iterations // 10) == 0 : print(_ // (iterations // 100),'%, E =',E, 'Time:',round(time.time()-start,2))\n",
    "        if E <= function_val : # or (function_val == -np.inf and (len(E_tab) > 1 and E_tab[-1] == E_tab[-2] and T < 10**-3)) :\n",
    "            counter += 1\n",
    "        if counter > _/10 and counter > 0 : \n",
    "            print(100,'%, E =',E, ' Time:',round(time.time()-start,2))\n",
    "            print(counter)\n",
    "            return E_tab, temp_tab, image\n",
    "        a_ind = (np.random.choice(n),np.random.choice(n))\n",
    "        b_ind = (np.random.choice(n),np.random.choice(n))\n",
    "        \n",
    "        while image[b_ind] == image[a_ind] :\n",
    "            b_ind = (np.random.choice(n),np.random.choice(n))\n",
    "        \n",
    "            \n",
    "        if image[b_ind] != 1 :\n",
    "            a_ind,b_ind = b_ind,a_ind\n",
    "        \n",
    "        d_E = 0\n",
    "        d_E = find_swap(image, neighbourhood_energy_function, a_ind, b_ind, d_E, -1)\n",
    "        image[b_ind],image[a_ind] = image[a_ind],image[b_ind]\n",
    "        d_E = find_swap(image, neighbourhood_energy_function, a_ind, b_ind, d_E, 1)\n",
    "                \n",
    "        if (d_E < 0) or (np.exp(-d_E/T) > np.random.uniform(0,1)) :\n",
    "            E += d_E\n",
    "        else :\n",
    "            image[b_ind],image[a_ind] = image[a_ind],image[b_ind]\n",
    "        \n",
    "        T *= cooling_rate\n",
    "        E_tab.append(E)\n",
    "        temp_tab.append(T)\n",
    "    print(100,'%, E =',E, ' Time:',round(time.time()-start,2))\n",
    "    \n",
    "    return E_tab, temp_tab, image"
   ]
  },
  {
   "cell_type": "code",
   "execution_count": 1135,
   "metadata": {},
   "outputs": [
    {
     "name": "stdout",
     "output_type": "stream",
     "text": [
      "-3006\n",
      "0 %, E = -3006 Time: 0.0\n"
     ]
    },
    {
     "name": "stdout",
     "output_type": "stream",
     "text": [
      "10 %, E = -5404 Time: 0.98\n",
      "20 %, E = -6480 Time: 1.98\n",
      "30 %, E = -6802 Time: 2.99\n",
      "40 %, E = -6910 Time: 4.02\n",
      "50 %, E = -7026 Time: 5.03\n",
      "60 %, E = -7096 Time: 6.02\n",
      "70 %, E = -7146 Time: 7.01\n",
      "80 %, E = -7176 Time: 8.02\n",
      "90 %, E = -7218 Time: 9.03\n",
      "100 %, E = -7236  Time: 10.02\n"
     ]
    }
   ],
   "source": [
    "energy_function = neighbourhood_energy_combine\n",
    "print(whole_energy(image,energy_function))\n",
    "# plot_points_e, plot_points_t, new_image = simulated_annealing_image(image, energy_function, 3_000_000, 100, 0.99999)\n",
    "plot_points_e, plot_points_t, new_image = simulated_annealing_image(image, energy_function, 100_000, 1_000, 0.999)"
   ]
  },
  {
   "cell_type": "code",
   "execution_count": 1136,
   "metadata": {},
   "outputs": [],
   "source": [
    "def plot_graph(plot_points,title = '', y_label = '', x_label = '') :\n",
    "    plt.plot([_ for _ in range(len(plot_points))], plot_points)\n",
    "\n",
    "    col = 'red'\n",
    "    if plot_points[-1] < plot_points[0] :\n",
    "        col = 'green'\n",
    "\n",
    "    plt.axhline(y=plot_points[0], color=col, linestyle='--')\n",
    "\n",
    "    plt.title(title)\n",
    "    plt.xlabel(x_label)\n",
    "    plt.ylabel(y_label)\n",
    "    plt.show()\n",
    "    print(f\"0: {plot_points[0]}, {len(plot_points) - 1}: {plot_points[-1]}\")"
   ]
  },
  {
   "cell_type": "code",
   "execution_count": 1137,
   "metadata": {},
   "outputs": [
    {
     "data": {
      "image/png": "[encoded data removed]",
      "text/plain": [
       "<Figure size 640x480 with 1 Axes>"
      ]
     },
     "metadata": {},
     "output_type": "display_data"
    },
    {
     "name": "stdout",
     "output_type": "stream",
     "text": [
      "0: -3006, 100000: -7236\n"
     ]
    }
   ],
   "source": [
    "plot_graph(plot_points_e,'Wykres Enegii','Energia','Iteracje')"
   ]
  },
  {
   "cell_type": "code",
   "execution_count": 1138,
   "metadata": {},
   "outputs": [
    {
     "data": {
      "image/png": "[encoded data removed]",
      "text/plain": [
       "<Figure size 640x480 with 1 Axes>"
      ]
     },
     "metadata": {},
     "output_type": "display_data"
    },
    {
     "name": "stdout",
     "output_type": "stream",
     "text": [
      "0: 1000, 100000: 3.5385276883431166e-41\n"
     ]
    }
   ],
   "source": [
    "plot_graph(plot_points_t,'Wykres Temperatury','Temperatura','Iteracje')"
   ]
  },
  {
   "cell_type": "code",
   "execution_count": 1139,
   "metadata": {},
   "outputs": [
    {
     "data": {
      "image/png": "[encoded data removed]",
      "text/plain": [
       "<Figure size 640x480 with 1 Axes>"
      ]
     },
     "metadata": {},
     "output_type": "display_data"
    },
    {
     "name": "stdout",
     "output_type": "stream",
     "text": [
      "-7236\n"
     ]
    }
   ],
   "source": [
    "plot_binary_image(new_image,'Stan końcowy')\n",
    "\n",
    "\n",
    "\n",
    "print(whole_energy(new_image,energy_function))"
   ]
  }
 ],
 "metadata": {
  "kernelspec": {
   "display_name": "Python 3",
   "language": "python",
   "name": "python3"
  },
  "language_info": {
   "codemirror_mode": {
    "name": "ipython",
    "version": 3
   },
   "file_extension": ".py",
   "mimetype": "text/x-python",
   "name": "python",
   "nbconvert_exporter": "python",
   "pygments_lexer": "ipython3",
   "version": "3.10.12"
  }
 },
 "nbformat": 4,
 "nbformat_minor": 2
}
